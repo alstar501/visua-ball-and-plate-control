{
 "cells": [
  {
   "cell_type": "code",
   "execution_count": 1,
   "metadata": {},
   "outputs": [],
   "source": [
    "import torch\n",
    "import torch.nn as nn\n",
    "import torch.nn.functional as F\n",
    "from torch.nn.utils import clip_grad_norm_\n",
    "from torch.autograd import Variable\n",
    "\n",
    "\n",
    "from torchvision.utils import save_image\n",
    "from IPython.core.display import Image, display\n",
    "\n",
    "import numpy as np\n",
    "import matplotlib.pyplot as plt\n",
    "from vae import VAE\n",
    "\n"
   ]
  },
  {
   "cell_type": "code",
   "execution_count": 2,
   "metadata": {},
   "outputs": [
    {
     "data": {
      "text/plain": [
       "device(type='cuda')"
      ]
     },
     "execution_count": 2,
     "metadata": {},
     "output_type": "execute_result"
    }
   ],
   "source": [
    "# Device configuration\n",
    "device = torch.device('cuda' if torch.cuda.is_available() else 'cpu')\n",
    "device"
   ]
  },
  {
   "cell_type": "code",
   "execution_count": 56,
   "metadata": {},
   "outputs": [],
   "source": [
    "bsz = 200\n",
    "epochs = 10\n",
    "seqlen = 16\n",
    "\n",
    "z_size = 32\n",
    "n_hidden = 256\n",
    "n_gaussians = 5"
   ]
  },
  {
   "cell_type": "code",
   "execution_count": 57,
   "metadata": {},
   "outputs": [],
   "source": [
    "#Q HERE"
   ]
  },
  {
   "cell_type": "code",
   "execution_count": null,
   "metadata": {},
   "outputs": [],
   "source": []
  },
  {
   "cell_type": "code",
   "execution_count": null,
   "metadata": {},
   "outputs": [],
   "source": []
  },
  {
   "cell_type": "code",
   "execution_count": 58,
   "metadata": {},
   "outputs": [
    {
     "name": "stdout",
     "output_type": "stream",
     "text": [
      "torch.Size([12001, 1, 32])\n"
     ]
    },
    {
     "data": {
      "text/plain": [
       "torch.Size([12001, 1, 32])"
      ]
     },
     "execution_count": 58,
     "metadata": {},
     "output_type": "execute_result"
    }
   ],
   "source": [
    "z = torch.from_numpy(np.load('z.npy'))\n",
    "print(z.shape)\n",
    "#z = z.view(bsz, -1, z.size(1)).to(device)\n",
    "z.shape"
   ]
  },
  {
   "cell_type": "code",
   "execution_count": 59,
   "metadata": {},
   "outputs": [
    {
     "data": {
      "text/plain": [
       "tensor([[[-0.2498, -0.0563, -0.1624,  ...,  0.1034,  0.1617,  0.0963]],\n",
       "\n",
       "        [[ 0.1358, -0.0288, -0.0641,  ..., -0.1029, -0.0410,  0.0640]],\n",
       "\n",
       "        [[-0.1854, -0.2106, -0.0891,  ...,  0.0092, -0.0656,  0.1128]],\n",
       "\n",
       "        ...,\n",
       "\n",
       "        [[ 0.0940, -0.4762, -0.0837,  ..., -0.1419,  0.0068,  0.6605]],\n",
       "\n",
       "        [[-0.2836, -0.1047, -0.2405,  ...,  0.1004, -0.1189, -0.1479]],\n",
       "\n",
       "        [[ 0.0108, -0.1142,  1.6550,  ..., -0.0376,  0.1301,  0.4181]]])"
      ]
     },
     "execution_count": 59,
     "metadata": {},
     "output_type": "execute_result"
    }
   ],
   "source": [
    "z"
   ]
  },
  {
   "cell_type": "code",
   "execution_count": 60,
   "metadata": {},
   "outputs": [],
   "source": [
    "# Truncated backpropagation\n",
    "def detach(states):\n",
    "    return [state.detach() for state in states] "
   ]
  },
  {
   "cell_type": "code",
   "execution_count": 87,
   "metadata": {},
   "outputs": [],
   "source": [
    "class MDNRNN(nn.Module):\n",
    "    def __init__(self, z_size, n_hidden=256, n_gaussians=5, n_layers=1):\n",
    "        super(MDNRNN, self).__init__()\n",
    "\n",
    "        self.z_size = z_size\n",
    "        self.n_hidden = n_hidden\n",
    "        self.n_gaussians = n_gaussians\n",
    "        self.n_layers = n_layers\n",
    "        \n",
    "        self.lstm = nn.LSTM(z_size, n_hidden, n_layers, batch_first=True)\n",
    "        self.fc1 = nn.Linear(n_hidden, n_gaussians*z_size)\n",
    "        self.fc2 = nn.Linear(n_hidden, n_gaussians*z_size)\n",
    "        self.fc3 = nn.Linear(n_hidden, n_gaussians*z_size)\n",
    "        \n",
    "    def get_mixture_coef(self, y):\n",
    "        rollout_length = y.size(1)\n",
    "        pi, mu, sigma = self.fc1(y), self.fc2(y), self.fc3(y)\n",
    "        \n",
    "        pi = pi.view(-1, rollout_length, self.n_gaussians, self.z_size)\n",
    "        mu = mu.view(-1, rollout_length, self.n_gaussians, self.z_size)\n",
    "        sigma = sigma.view(-1, rollout_length, self.n_gaussians, self.z_size)\n",
    "        \n",
    "        pi = F.softmax(pi, 2)\n",
    "        sigma = torch.exp(sigma)\n",
    "        return pi, mu, sigma\n",
    "        \n",
    "        \n",
    "    def forward(self, x, h):\n",
    "        # Forward propagate LSTM\n",
    "        \n",
    "        print('===')\n",
    "        print(x.shape)\n",
    "        print((h[0].shape))\n",
    "        \n",
    "        \n",
    "        y, (h, c) = self.lstm(x, h)\n",
    "        pi, mu, sigma = self.get_mixture_coef(y)\n",
    "        return (pi, mu, sigma), (h, c)\n",
    "    \n",
    "    def init_hidden(self, bsz):\n",
    "        return (torch.zeros(self.n_layers, bsz, self.n_hidden).to(device),\n",
    "                torch.zeros(self.n_layers, bsz, self.n_hidden).to(device))"
   ]
  },
  {
   "cell_type": "code",
   "execution_count": 88,
   "metadata": {},
   "outputs": [],
   "source": [
    "model = MDNRNN(z_size, n_hidden).to(device)\n",
    "# model.load_state_dict(torch.load('rnn.torch', map_location='cpu'))"
   ]
  },
  {
   "cell_type": "code",
   "execution_count": null,
   "metadata": {},
   "outputs": [],
   "source": []
  },
  {
   "cell_type": "code",
   "execution_count": 89,
   "metadata": {},
   "outputs": [
    {
     "data": {
      "text/plain": [
       "MDNRNN(\n",
       "  (lstm): LSTM(32, 256, batch_first=True)\n",
       "  (fc1): Linear(in_features=256, out_features=160, bias=True)\n",
       "  (fc2): Linear(in_features=256, out_features=160, bias=True)\n",
       "  (fc3): Linear(in_features=256, out_features=160, bias=True)\n",
       ")"
      ]
     },
     "execution_count": 89,
     "metadata": {},
     "output_type": "execute_result"
    }
   ],
   "source": [
    "model"
   ]
  },
  {
   "cell_type": "code",
   "execution_count": 64,
   "metadata": {},
   "outputs": [],
   "source": [
    "def mdn_loss_fn(y, pi, mu, sigma):\n",
    "    m = torch.distributions.Normal(loc=mu, scale=sigma)\n",
    "    loss = torch.exp(m.log_prob(y))\n",
    "    loss = torch.sum(loss * pi, dim=2)\n",
    "    loss = -torch.log(loss)\n",
    "    return loss.mean()"
   ]
  },
  {
   "cell_type": "code",
   "execution_count": 65,
   "metadata": {},
   "outputs": [],
   "source": [
    "def criterion(y, pi, mu, sigma):\n",
    "    y = y.unsqueeze(2)\n",
    "    return mdn_loss_fn(y, pi, mu, sigma)"
   ]
  },
  {
   "cell_type": "code",
   "execution_count": 66,
   "metadata": {},
   "outputs": [],
   "source": [
    "optimizer = torch.optim.Adam(model.parameters())"
   ]
  },
  {
   "cell_type": "code",
   "execution_count": 70,
   "metadata": {},
   "outputs": [
    {
     "name": "stdout",
     "output_type": "stream",
     "text": [
      "0 10\n"
     ]
    }
   ],
   "source": [
    "# Train the model\n",
    "for epoch in range(epochs):\n",
    "    # Set initial hidden and cell states\n",
    "    hidden = model.init_hidden(bsz)\n",
    "\n",
    "    \n",
    "    for i in range(0, z.size(1) - seqlen, seqlen):\n",
    "        # Get mini-batch inputs and targets\n",
    "        inputs = z[:, i:i+seqlen, :]\n",
    "        targets = z[:, (i+1):(i+1)+seqlen, :]\n",
    "        \n",
    "\n",
    "        \n",
    "        # Forward pass\n",
    "        hidden = detach(hidden)\n",
    "        \n",
    "        \n",
    "        (pi, mu, sigma), hidden = model(inputs, hidden)\n",
    "        \n",
    "        loss = criterion(targets, pi, mu, sigma)\n",
    "\n",
    "        \n",
    "        # Backward and optimize\n",
    "        model.zero_grad()\n",
    "        loss.backward()\n",
    "        # clip_grad_norm_(model.parameters(), 0.5)\n",
    "        optimizer.step()\n",
    "        \n",
    "    if epoch % 100 == 0:\n",
    "        print (epoch, epochs)"
   ]
  },
  {
   "cell_type": "code",
   "execution_count": 48,
   "metadata": {},
   "outputs": [],
   "source": [
    "# np.linalg.norm(z[0, 0, :].cpu().data - z1[0, :, :].cpu().data, axis=1)\n",
    "# np.linalg.norm(inputs.cpu().data - targets.cpu().data)"
   ]
  },
  {
   "cell_type": "code",
   "execution_count": 16,
   "metadata": {},
   "outputs": [],
   "source": [
    "#RNN Predict"
   ]
  },
  {
   "cell_type": "code",
   "execution_count": 17,
   "metadata": {},
   "outputs": [
    {
     "data": {
      "text/plain": [
       "<All keys matched successfully>"
      ]
     },
     "execution_count": 17,
     "metadata": {},
     "output_type": "execute_result"
    }
   ],
   "source": [
    "vae = VAE(image_channels=3).to(device)\n",
    "vae.load_state_dict(torch.load('vae.torch', map_location='cpu'))"
   ]
  },
  {
   "cell_type": "code",
   "execution_count": null,
   "metadata": {},
   "outputs": [],
   "source": []
  },
  {
   "cell_type": "code",
   "execution_count": 18,
   "metadata": {},
   "outputs": [
    {
     "data": {
      "text/plain": [
       "VAE(\n",
       "  (encoder): Sequential(\n",
       "    (0): Conv2d(3, 32, kernel_size=(4, 4), stride=(2, 2))\n",
       "    (1): ReLU()\n",
       "    (2): Conv2d(32, 64, kernel_size=(4, 4), stride=(2, 2))\n",
       "    (3): ReLU()\n",
       "    (4): Conv2d(64, 128, kernel_size=(4, 4), stride=(2, 2))\n",
       "    (5): ReLU()\n",
       "    (6): Conv2d(128, 256, kernel_size=(4, 4), stride=(2, 2))\n",
       "    (7): ReLU()\n",
       "    (8): Flatten()\n",
       "  )\n",
       "  (fc1): Linear(in_features=1024, out_features=32, bias=True)\n",
       "  (fc2): Linear(in_features=1024, out_features=32, bias=True)\n",
       "  (fc3): Linear(in_features=32, out_features=1024, bias=True)\n",
       "  (decoder): Sequential(\n",
       "    (0): UnFlatten()\n",
       "    (1): ConvTranspose2d(1024, 128, kernel_size=(5, 5), stride=(2, 2))\n",
       "    (2): ReLU()\n",
       "    (3): ConvTranspose2d(128, 64, kernel_size=(5, 5), stride=(2, 2))\n",
       "    (4): ReLU()\n",
       "    (5): ConvTranspose2d(64, 32, kernel_size=(6, 6), stride=(2, 2))\n",
       "    (6): ReLU()\n",
       "    (7): ConvTranspose2d(32, 3, kernel_size=(6, 6), stride=(2, 2))\n",
       "    (8): Sigmoid()\n",
       "  )\n",
       ")"
      ]
     },
     "execution_count": 18,
     "metadata": {},
     "output_type": "execute_result"
    }
   ],
   "source": [
    "vae"
   ]
  },
  {
   "cell_type": "code",
   "execution_count": null,
   "metadata": {},
   "outputs": [],
   "source": []
  },
  {
   "cell_type": "code",
   "execution_count": null,
   "metadata": {},
   "outputs": [],
   "source": []
  },
  {
   "cell_type": "code",
   "execution_count": 90,
   "metadata": {},
   "outputs": [
    {
     "name": "stdout",
     "output_type": "stream",
     "text": [
      "===\n",
      "torch.Size([1, 1, 32])\n",
      "torch.Size([1, 1, 256])\n"
     ]
    },
    {
     "data": {
      "image/png": "[encoded data removed]",
      "text/plain": [
       "<IPython.core.display.Image object>"
      ]
     },
     "metadata": {
      "image/png": {
       "unconfined": true,
       "width": 1000
      }
     },
     "output_type": "display_data"
    }
   ],
   "source": [
    "zero = np.random.randint(z.size(0))\n",
    "one = np.random.randint(z.size(1))\n",
    "x = z[zero:zero+1, one:one+1, :]\n",
    "y = z[zero:zero+1, one+1:one+2, :]\n",
    "\n",
    "\n",
    "x = x.cuda()\n",
    "y = y.cuda()\n",
    "\n",
    "hidden = model.init_hidden(1)\n",
    "(pi, mu, sigma), _ = model(x, hidden)\n",
    "\n",
    "y_preds = [torch.normal(mu, sigma)[:, :, i, :] for i in range(n_gaussians)]\n",
    "\n",
    "\n",
    "\n",
    "comp = torch.cat([[x, y][0] , y_preds[0], y_preds[1], y_preds[2], y_preds[3], y_preds[4] ])\n",
    "\n",
    "#compare_x = vae.decode(torch.cat([x, y] + y_preds))\n",
    "#compare_x = vae.decode([x, y][0])\n",
    "#compare_x = vae.decode(y_preds[0])\n",
    "\n",
    "compare_x = vae.decode(comp)\n",
    "\n",
    "\n",
    "\n",
    "# compare_x = vae.decode(z_out)\n",
    "save_image(compare_x.data.cpu(), 'sample_image.png')\n",
    "display(Image('sample_image.png', width=1000, unconfined=True))"
   ]
  },
  {
   "cell_type": "code",
   "execution_count": null,
   "metadata": {},
   "outputs": [],
   "source": []
  },
  {
   "cell_type": "code",
   "execution_count": 20,
   "metadata": {},
   "outputs": [
    {
     "data": {
      "text/plain": [
       "torch.Size([1, 1, 32])"
      ]
     },
     "execution_count": 20,
     "metadata": {},
     "output_type": "execute_result"
    }
   ],
   "source": [
    "y_preds[1]\n",
    "[x, y][0].shape\n",
    "y_preds[0].shape"
   ]
  },
  {
   "cell_type": "code",
   "execution_count": null,
   "metadata": {},
   "outputs": [],
   "source": []
  },
  {
   "cell_type": "code",
   "execution_count": 21,
   "metadata": {},
   "outputs": [
    {
     "data": {
      "text/plain": [
       "tensor([[[ 0.7418, -0.0714, -0.2175, -0.5127,  1.1116,  0.4516, -0.0623,\n",
       "           0.4681, -0.1985, -0.3506, -0.1640,  0.1563, -0.0413, -0.3044,\n",
       "           0.2665,  0.0166, -0.1539, -0.1232,  0.0553, -0.1292, -0.9484,\n",
       "          -0.4234, -0.7035,  0.1539, -0.1083,  0.6316,  0.2350,  0.4670,\n",
       "           0.2233,  0.2988, -0.0156, -0.2042]],\n",
       "\n",
       "        [[-0.7710,  1.1366,  0.9650, -1.1234, -0.9939, -2.4625,  0.4505,\n",
       "          -0.5594,  0.1348,  1.0435, -0.6658,  0.0141, -0.0317,  0.1517,\n",
       "           0.9528, -0.5861, -1.0782,  0.3262,  0.7128,  1.0025,  0.1378,\n",
       "           0.9619, -0.3077, -0.9055, -0.0299,  1.0633,  0.4665,  1.8153,\n",
       "          -0.1405, -0.2992,  0.3169,  1.6671]],\n",
       "\n",
       "        [[ 0.8633,  0.5687, -0.9135, -0.4973,  0.7798, -1.7187,  1.4213,\n",
       "          -1.2760, -0.3857, -0.0787, -0.7399,  2.3492,  0.2363,  0.6579,\n",
       "           0.0499, -0.1173,  0.9284, -2.8093,  1.3367, -0.2187,  0.2062,\n",
       "          -1.2918, -1.4648,  1.4222,  1.3665, -0.2361, -1.3507,  0.1358,\n",
       "           1.2534,  1.2602, -0.2469,  0.6929]],\n",
       "\n",
       "        [[ 0.6467, -0.4039,  0.0778,  0.2990,  0.9664,  2.3947,  0.7541,\n",
       "           0.2248, -0.5828,  0.2234, -1.5073,  1.3528,  1.2166,  0.0142,\n",
       "           1.2455,  2.5877,  0.4644,  0.2626, -0.0938, -0.2576,  0.2206,\n",
       "          -0.6334,  0.3863, -0.1315, -0.1050,  0.1147,  1.1691, -0.6416,\n",
       "          -0.5420,  1.7939,  1.0276,  0.8835]],\n",
       "\n",
       "        [[ 0.5262,  1.2115,  0.7005, -0.2337, -1.5691,  1.2457,  1.7459,\n",
       "           0.6779,  1.2212, -0.6987, -2.6530,  0.6185,  0.3648,  0.7039,\n",
       "           0.9203,  1.7034,  0.9969,  1.1169, -1.3399,  0.2322,  0.3018,\n",
       "           1.1541,  0.3262, -1.3816,  0.1305, -0.7168,  1.7030, -1.4853,\n",
       "           0.1973,  1.4302,  0.3956, -1.0234]],\n",
       "\n",
       "        [[ 0.6042,  0.8449, -0.1360,  0.5352,  0.6094, -2.1162, -0.3868,\n",
       "          -1.5023,  0.0132,  1.1554, -1.9269, -0.6012, -0.0297, -0.7244,\n",
       "           2.0969,  0.8231,  0.4841, -0.7962, -0.3479, -0.4045, -1.0043,\n",
       "          -0.2558, -0.1534, -0.4942, -0.2796, -0.9630,  0.5810,  2.1887,\n",
       "          -0.5242, -0.0958, -0.3373,  0.3515]]], device='cuda:0',\n",
       "       grad_fn=<CatBackward>)"
      ]
     },
     "execution_count": 21,
     "metadata": {},
     "output_type": "execute_result"
    }
   ],
   "source": [
    "torch.cat([[x, y][0] , y_preds[0], y_preds[1], y_preds[2], y_preds[3], y_preds[4] ])"
   ]
  },
  {
   "cell_type": "code",
   "execution_count": null,
   "metadata": {},
   "outputs": [],
   "source": []
  }
 ],
 "metadata": {
  "kernelspec": {
   "display_name": "Python 3",
   "language": "python",
   "name": "python3"
  },
  "language_info": {
   "codemirror_mode": {
    "name": "ipython",
    "version": 3
   },
   "file_extension": ".py",
   "mimetype": "text/x-python",
   "name": "python",
   "nbconvert_exporter": "python",
   "pygments_lexer": "ipython3",
   "version": "3.8.3"
  }
 },
 "nbformat": 4,
 "nbformat_minor": 4
}
